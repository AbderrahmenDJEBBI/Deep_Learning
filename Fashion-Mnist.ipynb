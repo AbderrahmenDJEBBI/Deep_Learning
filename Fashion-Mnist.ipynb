{
 "cells": [
  {
   "cell_type": "code",
   "execution_count": 1,
   "metadata": {},
   "outputs": [],
   "source": [
    "import matplotlib.pyplot as plt\n",
    "import pandas as pd\n",
    "import tensorflow as tf\n",
    "import numpy as np\n",
    "import sys"
   ]
  },
  {
   "cell_type": "code",
   "execution_count": 2,
   "metadata": {},
   "outputs": [],
   "source": [
    "fashion_mnist=tf.keras.datasets.fashion_mnist\n",
    "(X_train, y_train), (X_test, y_test)= fashion_mnist.load_data()\n"
   ]
  },
  {
   "cell_type": "code",
   "execution_count": 3,
   "metadata": {},
   "outputs": [
    {
     "name": "stdout",
     "output_type": "stream",
     "text": [
      "(60000, 28, 28)\n",
      "(10000, 28, 28)\n"
     ]
    }
   ],
   "source": [
    "print(X_train.shape)\n",
    "print(X_test.shape)"
   ]
  },
  {
   "cell_type": "code",
   "execution_count": 4,
   "metadata": {},
   "outputs": [],
   "source": [
    "X_val = X_test[:8000]\n",
    "y_val = y_test[:8000]\n",
    "X_test = X_test[8000:]\n",
    "y_test = y_test[8000:]"
   ]
  },
  {
   "cell_type": "code",
   "execution_count": 5,
   "metadata": {},
   "outputs": [
    {
     "name": "stdout",
     "output_type": "stream",
     "text": [
      "(60000, 28, 28)\n",
      "(2000, 28, 28)\n",
      "(8000, 28, 28)\n"
     ]
    }
   ],
   "source": [
    "print(X_train.shape)\n",
    "print(X_test.shape)\n",
    "print(X_val.shape)"
   ]
  },
  {
   "cell_type": "code",
   "execution_count": 6,
   "metadata": {},
   "outputs": [],
   "source": [
    "targets_names=[\"T-Shirt\", \"Trousers\", \"Pullover\", \"Dress\", \"Coat\",\"Sandal\", \"Shirt\", \"Sneaker\", \"Bag\", \"Ankle Boot\" ]"
   ]
  },
  {
   "cell_type": "code",
   "execution_count": 7,
   "metadata": {},
   "outputs": [
    {
     "data": {
      "image/png": "[encoded data removed]",
      "text/plain": [
       "<Figure size 640x480 with 2 Axes>"
      ]
     },
     "metadata": {},
     "output_type": "display_data"
    }
   ],
   "source": [
    "plt.figure()\n",
    "plt.imshow(X_test[100], cmap='gray')\n",
    "plt.colorbar()\n",
    "plt.title(targets_names[y_test[100]])\n",
    "plt.show()"
   ]
  },
  {
   "cell_type": "code",
   "execution_count": 8,
   "metadata": {},
   "outputs": [],
   "source": [
    "from tensorflow.keras.layers import Conv2D, BatchNormalization,MaxPooling2D, Flatten, Dense"
   ]
  },
  {
   "cell_type": "code",
   "execution_count": 9,
   "metadata": {},
   "outputs": [],
   "source": [
    "model=tf.keras.Sequential([\n",
    "Conv2D(64, kernel_size=(3, 3), activation='relu', padding='same', \n",
    "input_shape=(28, 28, 1)),\n",
    "BatchNormalization(),\n",
    "Conv2D(64, kernel_size=(3, 3), activation='relu'),\n",
    "BatchNormalization(),\n",
    "MaxPooling2D(pool_size=(2, 2)),\n",
    "\n",
    "Conv2D(128, kernel_size=(3, 3), activation='relu', padding='same'),\n",
    "BatchNormalization(),\n",
    "Conv2D(128, kernel_size=(3, 3), activation='relu'),\n",
    "BatchNormalization(),        \n",
    "MaxPooling2D(pool_size=(2, 2)),\n",
    "        \n",
    "Conv2D(256, kernel_size=(3, 3), activation='relu', padding='same'),\n",
    "BatchNormalization(),\n",
    "Conv2D(256, kernel_size=(3, 3), activation='relu'),\n",
    "BatchNormalization(),    \n",
    "MaxPooling2D(pool_size=(2, 2)),   \n",
    "        \n",
    "Flatten(),\n",
    "        \n",
    "Dense(1024, activation='relu'),\n",
    "        \n",
    "Dense(512, activation='relu'),\n",
    "        \n",
    "Dense(10, activation='softmax')\n",
    "])\n",
    "    \n",
    "   "
   ]
  },
  {
   "cell_type": "code",
   "execution_count": 10,
   "metadata": {},
   "outputs": [],
   "source": [
    "model.compile(optimizer='adam',loss='sparse_categorical_crossentropy',metrics=['accuracy'])"
   ]
  },
  {
   "cell_type": "code",
   "execution_count": 11,
   "metadata": {},
   "outputs": [
    {
     "name": "stdout",
     "output_type": "stream",
     "text": [
      "Epoch 1/15\n",
      "1875/1875 [==============================] - 193s 102ms/step - loss: 0.3832 - accuracy: 0.8617 - val_loss: 0.2815 - val_accuracy: 0.9019\n",
      "Epoch 2/15\n",
      "1875/1875 [==============================] - 198s 106ms/step - loss: 0.2624 - accuracy: 0.9072 - val_loss: 0.2966 - val_accuracy: 0.8986\n",
      "Epoch 3/15\n",
      "1875/1875 [==============================] - 203s 109ms/step - loss: 0.2216 - accuracy: 0.9199 - val_loss: 0.2462 - val_accuracy: 0.9149\n",
      "Epoch 4/15\n",
      "1875/1875 [==============================] - 198s 106ms/step - loss: 0.1889 - accuracy: 0.9316 - val_loss: 0.2744 - val_accuracy: 0.9029\n",
      "Epoch 5/15\n",
      "1875/1875 [==============================] - 199s 106ms/step - loss: 0.1690 - accuracy: 0.9393 - val_loss: 0.2449 - val_accuracy: 0.9222\n",
      "Epoch 6/15\n",
      "1875/1875 [==============================] - 199s 106ms/step - loss: 0.1447 - accuracy: 0.9477 - val_loss: 0.2546 - val_accuracy: 0.9225\n",
      "Epoch 7/15\n",
      "1875/1875 [==============================] - 204s 109ms/step - loss: 0.1236 - accuracy: 0.9546 - val_loss: 0.2764 - val_accuracy: 0.9218\n",
      "Epoch 8/15\n",
      "1875/1875 [==============================] - 199s 106ms/step - loss: 0.1071 - accuracy: 0.9607 - val_loss: 0.2531 - val_accuracy: 0.9262\n",
      "Epoch 9/15\n",
      "1875/1875 [==============================] - 195s 104ms/step - loss: 0.0945 - accuracy: 0.9653 - val_loss: 0.3029 - val_accuracy: 0.9230\n",
      "Epoch 10/15\n",
      "1875/1875 [==============================] - 197s 105ms/step - loss: 0.0776 - accuracy: 0.9717 - val_loss: 0.2812 - val_accuracy: 0.9246\n",
      "Epoch 11/15\n",
      "1875/1875 [==============================] - 199s 106ms/step - loss: 0.0729 - accuracy: 0.9747 - val_loss: 0.3168 - val_accuracy: 0.9175\n",
      "Epoch 12/15\n",
      "1875/1875 [==============================] - 202s 108ms/step - loss: 0.0608 - accuracy: 0.9786 - val_loss: 0.3280 - val_accuracy: 0.9265\n",
      "Epoch 13/15\n",
      "1875/1875 [==============================] - 206s 110ms/step - loss: 0.0588 - accuracy: 0.9796 - val_loss: 0.3494 - val_accuracy: 0.9239\n",
      "Epoch 14/15\n",
      "1875/1875 [==============================] - 206s 110ms/step - loss: 0.0504 - accuracy: 0.9820 - val_loss: 0.3544 - val_accuracy: 0.9194\n",
      "Epoch 15/15\n",
      "1875/1875 [==============================] - 201s 107ms/step - loss: 0.0434 - accuracy: 0.9854 - val_loss: 0.3752 - val_accuracy: 0.9251\n"
     ]
    }
   ],
   "source": [
    "history = model.fit(X_train, y_train, epochs=15,batch_size=32, validation_data=(X_val, y_val))"
   ]
  },
  {
   "cell_type": "markdown",
   "metadata": {},
   "source": [
    "Add weight regularization"
   ]
  },
  {
   "cell_type": "markdown",
   "metadata": {},
   "source": [
    "#### Applying L2 regularization"
   ]
  },
  {
   "cell_type": "code",
   "execution_count": 12,
   "metadata": {},
   "outputs": [],
   "source": [
    "## L2"
   ]
  },
  {
   "cell_type": "code",
   "execution_count": 13,
   "metadata": {},
   "outputs": [],
   "source": [
    "from tensorflow.keras import regularizers\n",
    "\n",
    "model = tf.keras.Sequential([\n",
    "    Conv2D(64, kernel_size=(3, 3), activation='relu', padding='same', input_shape=(28, 28, 1),\n",
    "           kernel_regularizer=regularizers.l2(0.01)),\n",
    "    BatchNormalization(),\n",
    "    Conv2D(64, kernel_size=(3, 3), activation='relu', kernel_regularizer=regularizers.l2(0.01)),\n",
    "    BatchNormalization(),\n",
    "    MaxPooling2D(pool_size=(2, 2)),\n",
    "\n",
    "    Conv2D(128, kernel_size=(3, 3), activation='relu', padding='same', kernel_regularizer=regularizers.l2(0.01)),\n",
    "    BatchNormalization(),\n",
    "    Conv2D(128, kernel_size=(3, 3), activation='relu', kernel_regularizer=regularizers.l2(0.01)),\n",
    "    BatchNormalization(),\n",
    "    MaxPooling2D(pool_size=(2, 2)),\n",
    "\n",
    "    Conv2D(256, kernel_size=(3, 3), activation='relu', padding='same', kernel_regularizer=regularizers.l2(0.01)),\n",
    "    BatchNormalization(),\n",
    "    Conv2D(256, kernel_size=(3, 3), activation='relu', kernel_regularizer=regularizers.l2(0.01)),\n",
    "    BatchNormalization(),\n",
    "    MaxPooling2D(pool_size=(2, 2)),\n",
    "\n",
    "    Flatten(),\n",
    "\n",
    "    Dense(1024, activation='relu', kernel_regularizer=regularizers.l2(0.01)),\n",
    "    Dense(512, activation='relu', kernel_regularizer=regularizers.l2(0.01)),\n",
    "    Dense(10, activation='softmax')\n",
    "])\n"
   ]
  },
  {
   "cell_type": "markdown",
   "metadata": {},
   "source": [
    "#### Dropout"
   ]
  },
  {
   "cell_type": "code",
   "execution_count": 14,
   "metadata": {},
   "outputs": [],
   "source": [
    "## Droupout"
   ]
  },
  {
   "cell_type": "code",
   "execution_count": 15,
   "metadata": {},
   "outputs": [],
   "source": [
    "from tensorflow.keras.layers import Dropout\n",
    "\n",
    "model = tf.keras.Sequential([\n",
    "    Conv2D(64, kernel_size=(3, 3), activation='relu', padding='same', input_shape=(28, 28, 1)),\n",
    "    BatchNormalization(),\n",
    "    Conv2D(64, kernel_size=(3, 3), activation='relu'),\n",
    "    BatchNormalization(),\n",
    "    MaxPooling2D(pool_size=(2, 2)),\n",
    "    Dropout(0.25),\n",
    "\n",
    "    Conv2D(128, kernel_size=(3, 3), activation='relu', padding='same'),\n",
    "    BatchNormalization(),\n",
    "    Conv2D(128, kernel_size=(3, 3), activation='relu'),\n",
    "    BatchNormalization(),\n",
    "    MaxPooling2D(pool_size=(2, 2)),\n",
    "    Dropout(0.25),\n",
    "\n",
    "    Conv2D(256, kernel_size=(3, 3), activation='relu', padding='same'),\n",
    "    BatchNormalization(),\n",
    "    Conv2D(256, kernel_size=(3, 3), activation='relu'),\n",
    "    BatchNormalization(),\n",
    "    MaxPooling2D(pool_size=(2, 2)),\n",
    "    Dropout(0.25),\n",
    "\n",
    "    Flatten(),\n",
    "\n",
    "    Dense(1024, activation='relu'),\n",
    "    Dropout(0.5),\n",
    "    Dense(512, activation='relu'),\n",
    "    Dropout(0.5),\n",
    "    Dense(10, activation='softmax')\n",
    "])\n"
   ]
  },
  {
   "cell_type": "markdown",
   "metadata": {},
   "source": [
    "#### Early Stop"
   ]
  },
  {
   "cell_type": "code",
   "execution_count": 16,
   "metadata": {},
   "outputs": [],
   "source": [
    "## Early Stop"
   ]
  },
  {
   "cell_type": "code",
   "execution_count": 17,
   "metadata": {},
   "outputs": [
    {
     "name": "stdout",
     "output_type": "stream",
     "text": [
      "Epoch 1/15\n",
      "1875/1875 [==============================] - 209s 111ms/step - loss: 0.5180 - accuracy: 0.8207 - val_loss: 0.3216 - val_accuracy: 0.8857\n",
      "Epoch 2/15\n",
      "1875/1875 [==============================] - 204s 109ms/step - loss: 0.3384 - accuracy: 0.8847 - val_loss: 0.3228 - val_accuracy: 0.8856\n",
      "Epoch 3/15\n",
      "1875/1875 [==============================] - 207s 111ms/step - loss: 0.3013 - accuracy: 0.8979 - val_loss: 0.2701 - val_accuracy: 0.9057\n",
      "Epoch 4/15\n",
      "1875/1875 [==============================] - 233s 124ms/step - loss: 0.2729 - accuracy: 0.9074 - val_loss: 0.2488 - val_accuracy: 0.9125\n",
      "Epoch 5/15\n",
      "1875/1875 [==============================] - 242s 129ms/step - loss: 0.2463 - accuracy: 0.9167 - val_loss: 0.2948 - val_accuracy: 0.8924\n",
      "Epoch 6/15\n",
      "1875/1875 [==============================] - 240s 128ms/step - loss: 0.2289 - accuracy: 0.9221 - val_loss: 0.2496 - val_accuracy: 0.9174\n",
      "Epoch 7/15\n",
      "1875/1875 [==============================] - 241s 129ms/step - loss: 0.2125 - accuracy: 0.9268 - val_loss: 0.2461 - val_accuracy: 0.9135\n",
      "Epoch 8/15\n",
      "1875/1875 [==============================] - 243s 130ms/step - loss: 0.1996 - accuracy: 0.9308 - val_loss: 0.3323 - val_accuracy: 0.8863\n",
      "Epoch 9/15\n",
      "1875/1875 [==============================] - 243s 129ms/step - loss: 0.1932 - accuracy: 0.9342 - val_loss: 0.2107 - val_accuracy: 0.9247\n",
      "Epoch 10/15\n",
      "1875/1875 [==============================] - 224s 119ms/step - loss: 0.1747 - accuracy: 0.9385 - val_loss: 0.2102 - val_accuracy: 0.9294\n",
      "Epoch 11/15\n",
      "1875/1875 [==============================] - 213s 114ms/step - loss: 0.1672 - accuracy: 0.9424 - val_loss: 0.2173 - val_accuracy: 0.9264\n",
      "Epoch 12/15\n",
      "1875/1875 [==============================] - 212s 113ms/step - loss: 0.1532 - accuracy: 0.9465 - val_loss: 0.2638 - val_accuracy: 0.9222\n",
      "Epoch 13/15\n",
      "1875/1875 [==============================] - 217s 116ms/step - loss: 0.1482 - accuracy: 0.9484 - val_loss: 0.2166 - val_accuracy: 0.9317\n"
     ]
    }
   ],
   "source": [
    "from tensorflow.keras.callbacks import EarlyStopping\n",
    "\n",
    "# Define early stopping criteria\n",
    "early_stop = EarlyStopping(monitor='val_loss', patience=3, restore_best_weights=True)\n",
    "\n",
    "# Compile the model\n",
    "model.compile(optimizer='adam', loss='sparse_categorical_crossentropy', metrics=['accuracy'])\n",
    "\n",
    "# Train the model with early stopping\n",
    "history = model.fit(X_train, y_train, epochs=15, batch_size=32, validation_data=(X_val, y_val), callbacks=[early_stop])\n"
   ]
  },
  {
   "cell_type": "markdown",
   "metadata": {},
   "source": [
    "#### Data Augmentation"
   ]
  },
  {
   "cell_type": "code",
   "execution_count": 18,
   "metadata": {},
   "outputs": [],
   "source": [
    "## Data Augmentation"
   ]
  },
  {
   "cell_type": "code",
   "execution_count": 19,
   "metadata": {},
   "outputs": [
    {
     "name": "stdout",
     "output_type": "stream",
     "text": [
      "Epoch 1/15\n",
      "1875/1875 [==============================] - 207s 110ms/step - loss: 0.4994 - accuracy: 0.8309 - val_loss: 0.2652 - val_accuracy: 0.9055\n",
      "Epoch 2/15\n",
      "1875/1875 [==============================] - 212s 113ms/step - loss: 0.3974 - accuracy: 0.8622 - val_loss: 0.2804 - val_accuracy: 0.9003\n",
      "Epoch 3/15\n",
      "1875/1875 [==============================] - 232s 124ms/step - loss: 0.3720 - accuracy: 0.8705 - val_loss: 0.3185 - val_accuracy: 0.8884\n",
      "Epoch 4/15\n",
      "1875/1875 [==============================] - 244s 130ms/step - loss: 0.3499 - accuracy: 0.8776 - val_loss: 0.2440 - val_accuracy: 0.9118\n",
      "Epoch 5/15\n",
      "1875/1875 [==============================] - 246s 131ms/step - loss: 0.3419 - accuracy: 0.8815 - val_loss: 0.2534 - val_accuracy: 0.9087\n",
      "Epoch 6/15\n",
      "1875/1875 [==============================] - 244s 130ms/step - loss: 0.3340 - accuracy: 0.8834 - val_loss: 0.2898 - val_accuracy: 0.8954\n",
      "Epoch 7/15\n",
      "1875/1875 [==============================] - 251s 134ms/step - loss: 0.3235 - accuracy: 0.8863 - val_loss: 0.2705 - val_accuracy: 0.8986\n"
     ]
    }
   ],
   "source": [
    "from tensorflow.keras.preprocessing.image import ImageDataGenerator\n",
    "import numpy as np\n",
    "\n",
    "# Add channel dimension to the input data\n",
    "X_train = np.expand_dims(X_train, axis=-1)\n",
    "X_val = np.expand_dims(X_val, axis=-1)\n",
    "X_test = np.expand_dims(X_test, axis=-1)\n",
    "\n",
    "# Create an instance of the ImageDataGenerator\n",
    "datagen = ImageDataGenerator(\n",
    "    rotation_range=10,\n",
    "    width_shift_range=0.1,\n",
    "    height_shift_range=0.1,\n",
    "    shear_range=0.2,\n",
    "    zoom_range=0.2,\n",
    "    horizontal_flip=True\n",
    ")\n",
    "\n",
    "# Fit the ImageDataGenerator on the training data\n",
    "datagen.fit(X_train)\n",
    "\n",
    "# Train the model with data augmentation\n",
    "history = model.fit(datagen.flow(X_train, y_train, batch_size=32),\n",
    "                          epochs=15,\n",
    "                          validation_data=(X_val, y_val),\n",
    "                          callbacks=[early_stop])\n"
   ]
  }
 ],
 "metadata": {
  "kernelspec": {
   "display_name": "Python 3 (ipykernel)",
   "language": "python",
   "name": "python3"
  },
  "language_info": {
   "codemirror_mode": {
    "name": "ipython",
    "version": 3
   },
   "file_extension": ".py",
   "mimetype": "text/x-python",
   "name": "python",
   "nbconvert_exporter": "python",
   "pygments_lexer": "ipython3",
   "version": "3.9.13"
  }
 },
 "nbformat": 4,
 "nbformat_minor": 4
}
